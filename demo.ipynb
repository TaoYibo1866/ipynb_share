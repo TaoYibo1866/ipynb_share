{
 "cells": [
  {
   "cell_type": "markdown",
   "metadata": {},
   "source": [
    "# 控制系统设计\n",
    "## 第二章 离散傅里叶变换\n",
    "> 1. 基础知识\n",
    ">    - 1.1 采样定理\n",
    ">    - 1.2 DFT\n",
    ">    - 1.3 IDFT\n",
    "> 2. FFT\n",
    "> 3. 探究$f_s$对DFT的影响\n",
    "> 4. 总结"
   ]
  },
  {
   "cell_type": "markdown",
   "metadata": {},
   "source": [
    "### 3.探究$f_s$对DFT的影响"
   ]
  },
  {
   "cell_type": "markdown",
   "metadata": {},
   "source": [
    "### 正弦波叠加\n",
    "> $$f(t)=5cos(2\\pi t)+2sin(4\\pi t)+3sin(10\\pi t+\\frac{\\pi}{6})$$"
   ]
  },
  {
   "cell_type": "markdown",
   "metadata": {},
   "source": [
    "### 方波\n",
    "> $$f(t)=\\begin{cases}\n",
    "A & nT<t<(n+D)T \\\\\n",
    "0 & (n+D)T<t<(n+1)T \\\\\n",
    "\\end{cases}$$\n",
    "其中$n\\in \\Bbb Z$,$0<D<1$, $T=1s$"
   ]
  },
  {
   "cell_type": "markdown",
   "metadata": {},
   "source": [
    "### 动手试一试！"
   ]
  },
  {
   "cell_type": "code",
   "execution_count": 11,
   "metadata": {},
   "outputs": [
    {
     "name": "stdout",
     "output_type": "stream",
     "text": [
      "[ 7.59807621  4.06491085  0.80294192  0.5230277  -3.10196702 -8.87591056\n",
      " -7.05209245  1.79568102  6.13090418  3.57073249  2.58357598  4.06790887\n",
      "  0.93301382 -4.8641088  -4.63114155 -0.45885139 -1.20361195 -4.30587373\n",
      " -0.76612401  6.26017505  6.7719762   2.27468359  0.63486184 -0.25923168\n",
      " -5.69567482 -9.42832753 -3.75260958  4.59145111  5.51443163  2.60770886\n",
      "  3.28736968  3.58870953 -1.61222694 -5.73111674 -2.86227085  0.05043002\n",
      " -2.76079285 -3.88338694  2.27333941  7.5150143   5.0491812   1.10469263\n",
      "  0.63942833 -1.95176146 -8.04660517 -8.2554591   0.02407743  5.98841829\n",
      "  4.23145574  2.40192379]\n"
     ]
    },
    {
     "ename": "TypeError",
     "evalue": "cannot unpack non-iterable AxesSubplot object",
     "output_type": "error",
     "traceback": [
      "\u001b[0;31m---------------------------------------------------------------------------\u001b[0m",
      "\u001b[0;31mTypeError\u001b[0m                                 Traceback (most recent call last)",
      "\u001b[0;32m~/Desktop/py/fft/rfft.py\u001b[0m in \u001b[0;36m<module>\u001b[0;34m\u001b[0m\n\u001b[1;32m     33\u001b[0m     \u001b[0ms\u001b[0m \u001b[0;34m=\u001b[0m \u001b[0msample\u001b[0m\u001b[0;34m(\u001b[0m\u001b[0msquare_wave\u001b[0m\u001b[0;34m,\u001b[0m \u001b[0;36m0\u001b[0m\u001b[0;34m,\u001b[0m \u001b[0;36m5\u001b[0m\u001b[0;34m,\u001b[0m \u001b[0mfs\u001b[0m\u001b[0;34m)\u001b[0m\u001b[0;34m\u001b[0m\u001b[0;34m\u001b[0m\u001b[0m\n\u001b[1;32m     34\u001b[0m \u001b[0mprint\u001b[0m\u001b[0;34m(\u001b[0m\u001b[0ms\u001b[0m\u001b[0;34m)\u001b[0m\u001b[0;34m\u001b[0m\u001b[0;34m\u001b[0m\u001b[0m\n\u001b[0;32m---> 35\u001b[0;31m \u001b[0mfig\u001b[0m\u001b[0;34m,\u001b[0m \u001b[0;34m[\u001b[0m\u001b[0max1\u001b[0m\u001b[0;34m,\u001b[0m \u001b[0max2\u001b[0m\u001b[0;34m,\u001b[0m \u001b[0max3\u001b[0m\u001b[0;34m]\u001b[0m \u001b[0;34m=\u001b[0m \u001b[0mplt\u001b[0m\u001b[0;34m.\u001b[0m\u001b[0msubplots\u001b[0m\u001b[0;34m(\u001b[0m\u001b[0;34m)\u001b[0m\u001b[0;34m\u001b[0m\u001b[0;34m\u001b[0m\u001b[0m\n\u001b[0m\u001b[1;32m     36\u001b[0m \u001b[0mplt\u001b[0m\u001b[0;34m.\u001b[0m\u001b[0mshow\u001b[0m\u001b[0;34m(\u001b[0m\u001b[0;34m)\u001b[0m\u001b[0;34m\u001b[0m\u001b[0;34m\u001b[0m\u001b[0m\n",
      "\u001b[0;31mTypeError\u001b[0m: cannot unpack non-iterable AxesSubplot object"
     ]
    },
    {
     "data": {
      "image/png": "[encoded data removed]",
      "text/plain": [
       "<Figure size 432x288 with 1 Axes>"
      ]
     },
     "metadata": {
      "needs_background": "light"
     },
     "output_type": "display_data"
    }
   ],
   "source": [
    "%run rfft.py sin 10 #rfft.py [sin/square] [fs]"
   ]
  },
  {
   "cell_type": "markdown",
   "metadata": {},
   "source": [
    "## 3.总结\n",
    ">\n",
    "|        | 本质区别 | 适用对象 | 频段 |  \n",
    "| :--------- | :----: | :------: | :------------: |\n",
    "| 傅里叶变换| 连续 | 解析式 | $\\infty$ |\n",
    "| 快速傅里叶变换| 离散 | 采样点 | $$<\\frac{f_c}{2}$$ |"
   ]
  }
 ],
 "metadata": {
  "kernelspec": {
   "display_name": "Python 3",
   "language": "python",
   "name": "python3"
  },
  "language_info": {
   "codemirror_mode": {
    "name": "ipython",
    "version": 3
   },
   "file_extension": ".py",
   "mimetype": "text/x-python",
   "name": "python",
   "nbconvert_exporter": "python",
   "pygments_lexer": "ipython3",
   "version": "3.7.6"
  }
 },
 "nbformat": 4,
 "nbformat_minor": 2
}
